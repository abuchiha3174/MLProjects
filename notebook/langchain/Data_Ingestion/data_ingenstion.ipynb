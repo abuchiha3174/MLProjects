{
 "cells": [
  {
   "cell_type": "markdown",
   "metadata": {},
   "source": [
    "Data ingestion - Document Loaders"
   ]
  },
  {
   "cell_type": "code",
   "execution_count": null,
   "metadata": {},
   "outputs": [],
   "source": [
    "## Text Loader - To load any txt file.\n",
    "from langchain_community.document_loaders import TextLoader\n",
    "\n",
    "loader = TextLoader('speech.txt')\n",
    "loader"
   ]
  },
  {
   "cell_type": "code",
   "execution_count": null,
   "metadata": {},
   "outputs": [],
   "source": [
    "## will help in create documents\n",
    "text_documents = loader.load()\n",
    "text_documents"
   ]
  },
  {
   "cell_type": "code",
   "execution_count": null,
   "metadata": {},
   "outputs": [],
   "source": [
    "## reading a pdf file\n",
    "from langchain_community.document_loaders import PyPDFLoader\n",
    "loaderPDF = PyPDFLoader('attention.pdf')\n",
    "pdf_doc = loaderPDF.load()"
   ]
  },
  {
   "cell_type": "code",
   "execution_count": null,
   "metadata": {},
   "outputs": [],
   "source": [
    "pdf_doc"
   ]
  },
  {
   "cell_type": "code",
   "execution_count": null,
   "metadata": {},
   "outputs": [],
   "source": [
    "## web based loader\n",
    "from langchain_community.document_loaders import WebBaseLoader\n",
    "import bs4\n",
    "web_loader = WebBaseLoader(web_paths=(\"https://www.geeksforgeeks.org/applications-of-ai/\",),\n",
    "                           bs_kwargs=dict(parse_only = bs4.SoupStrainer(\n",
    "                               class_=(\"article--viewer_content\")\n",
    "                           ))\n",
    "                           )"
   ]
  },
  {
   "cell_type": "code",
   "execution_count": null,
   "metadata": {},
   "outputs": [],
   "source": [
    "web_page = web_loader.load()\n",
    "web_page"
   ]
  },
  {
   "cell_type": "code",
   "execution_count": null,
   "metadata": {},
   "outputs": [],
   "source": [
    "from langchain_community.document_loaders import ArxivLoader\n",
    "arxiv_loader = ArxivLoader(query=\"1706.03762\", load_max_docs=2).load()\n",
    "arxiv_loader"
   ]
  },
  {
   "cell_type": "markdown",
   "metadata": {},
   "source": [
    "Text Splitting of Documents"
   ]
  },
  {
   "cell_type": "code",
   "execution_count": null,
   "metadata": {},
   "outputs": [],
   "source": [
    "### how to recursively Split text \n",
    "from langchain_text_splitters import RecursiveCharacterTextSplitter\n",
    "arxiv_text_splitter = RecursiveCharacterTextSplitter(chunk_size = 500,chunk_overlap=50)\n",
    "## create_documents function is good for text files but we are using list/document\n",
    "# arxiv_docs = arxiv_text_splitter.create_documents(arxiv_loader)\n",
    "arxiv_docs = arxiv_text_splitter.split_documents(arxiv_loader)\n",
    "arxiv_docs"
   ]
  },
  {
   "cell_type": "code",
   "execution_count": null,
   "metadata": {},
   "outputs": [],
   "source": [
    "print(arxiv_docs[0])\n",
    "print(arxiv_docs[1])\n",
    "## sum text is getting printed 2ice or overlapping"
   ]
  },
  {
   "cell_type": "code",
   "execution_count": null,
   "metadata": {},
   "outputs": [],
   "source": [
    "speech = \"\"\n",
    "with open(\"speech.txt\") as f:\n",
    "    speech = f.read()\n",
    "\n",
    "speech\n",
    "# text_documents"
   ]
  },
  {
   "cell_type": "code",
   "execution_count": null,
   "metadata": {},
   "outputs": [],
   "source": [
    "txt_splitter = RecursiveCharacterTextSplitter(chunk_size = 100, chunk_overlap = 20)\n",
    "txt_doc = txt_splitter.create_documents([speech])\n",
    "txt_doc"
   ]
  },
  {
   "cell_type": "code",
   "execution_count": null,
   "metadata": {},
   "outputs": [],
   "source": [
    "from langchain_text_splitters import CharacterTextSplitter\n",
    "txt_splitter_char = CharacterTextSplitter(separator = \"\\n\\n\", chunk_size = 100, chunk_overlap = 20)\n",
    "txt_doc_char = txt_splitter_char.create_documents([speech])\n",
    "txt_doc_char"
   ]
  },
  {
   "cell_type": "code",
   "execution_count": null,
   "metadata": {},
   "outputs": [],
   "source": []
  }
 ],
 "metadata": {
  "kernelspec": {
   "display_name": "Python 3",
   "language": "python",
   "name": "python3"
  },
  "language_info": {
   "codemirror_mode": {
    "name": "ipython",
    "version": 3
   },
   "file_extension": ".py",
   "mimetype": "text/x-python",
   "name": "python",
   "nbconvert_exporter": "python",
   "pygments_lexer": "ipython3",
   "version": "3.12.8"
  }
 },
 "nbformat": 4,
 "nbformat_minor": 2
}
